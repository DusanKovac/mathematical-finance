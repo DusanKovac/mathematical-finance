{
 "cells": [
  {
   "cell_type": "markdown",
   "metadata": {
    "colab_type": "text",
    "id": "view-in-github"
   },
   "source": [
    "<a href=\"https://colab.research.google.com/github/alik604/Notebooks/blob/master/Time%20Series/stock_algo_trading_CCI.ipynb\" target=\"_parent\"><img src=\"https://colab.research.google.com/assets/colab-badge.svg\" alt=\"Open In Colab\"/></a>"
   ]
  },
  {
   "cell_type": "code",
   "execution_count": 1,
   "metadata": {
    "colab": {
     "base_uri": "https://localhost:8080/",
     "height": 399
    },
    "colab_type": "code",
    "id": "ZFRj4XIEkjN_",
    "outputId": "3ad245e3-e559-4159-c871-a8474da52d98"
   },
   "outputs": [],
   "source": [
    "# Importing the libraries\n",
    "import math\n",
    "import datetime\n",
    "\n",
    "import numpy as np\n",
    "import pandas as pd\n",
    "\n",
    "import matplotlib.pyplot as plt\n",
    "plt.style.use('fivethirtyeight')\n",
    "plt.rcParams['figure.figsize'] = (15, 9)   # Change the size of plots\n",
    "\n",
    "from IPython.core.interactiveshell import InteractiveShell\n",
    "InteractiveShell.ast_node_interactivity = \"all\"\n",
    "\n",
    "# !pip yfinance\n",
    "import yfinance as yf\n",
    "import pandas_datareader.data as web\n",
    "\n",
    "# https://github.com/atreadw1492/yahoo_fin\n",
    "# !pip install yahoo_fin\n",
    "from yahoo_fin.stock_info import * # get_data, tickers_sp500, tickers_nasdaq, tickers_other, get_quote_table \n",
    "\n",
    "# !pip install ta\n",
    "import ta "
   ]
  },
  {
   "cell_type": "code",
   "execution_count": 2,
   "metadata": {
    "colab": {
     "base_uri": "https://localhost:8080/",
     "height": 696
    },
    "colab_type": "code",
    "id": "dulAplofkoht",
    "outputId": "ef972aad-5f61-4db9-beee-260d5e7d4cbf"
   },
   "outputs": [
    {
     "name": "stdout",
     "output_type": "stream",
     "text": [
      "CNQ.to\t is 41.96.\t Weighted price is 10.70\n",
      "SU.to\t is 28.90.\t Weighted price is 17.77\n",
      "CVE.to\t is 9.96.\t Weighted price is 18.96\n",
      "IMO.to\t is 39.48.\t Weighted price is 22.28\n",
      "TOU.to\t is 29.41.\t Weighted price is 24.54\n",
      "ARX.to\t is 9.36.\t Weighted price is 25.09\n",
      "WCP.to\t is 5.86.\t Weighted price is 25.25\n",
      "PSK.to\t is 13.80.\t Weighted price is 25.62\n",
      "CPG.to\t is 5.03.\t Weighted price is 25.75\n",
      "PXT.to\t is 20.49.\t Weighted price is 26.27\n",
      "MEG.to\t is 7.69.\t Weighted price is 26.43\n",
      "ERF.to\t is 7.72.\t Weighted price is 26.58\n",
      "VET.to\t is 9.66.\t Weighted price is 26.73\n",
      "\n",
      "Expected price 26.73\n"
     ]
    }
   ],
   "source": [
    "start = datetime.datetime(2016,1,1)\n",
    "# start = datetime.datetime(2020,3,21)\n",
    "end = datetime.date.today()\n",
    "\n",
    "# Correct as of 18 may https://www.blackrock.com/ca/investors/en/products/239839/ishares-sptsx-capped-energy-index-etf\n",
    "symbols = ['CNQ.to', 'SU.to', 'CVE.to', 'IMO.to', 'TOU.to', 'ARX.to', 'WCP.to', 'PSK.to', 'CPG.to', 'PXT.to', 'MEG.to', 'ERF.to', 'VET.to']\n",
    "weights = [25.51, 24.45, 11.96, 8.41, 7.67, 5.90, 2.80, 2.69, 2.56, 2.55, 2.08, 1.89, 1.50, 0.03]\n",
    "weights = np.array(weights)/100 \n",
    "symbol_weights = dict(zip(symbols, weights))\n",
    "\n",
    "# dataset = dict()\n",
    "# dataset['XEG.TO'] = yf.download('XEG.TO', start, end)[\"Adj Close\"]\n",
    "\n",
    "expected_price = 0.0\n",
    "for symbol in symbols:\n",
    "#     dataset[symbol] = yf.download(symbol, start, end)[\"Adj Close\"]\n",
    "    price = get_live_price(symbol)\n",
    "    expected_price += price * symbol_weights[symbol]\n",
    "    print(f'{symbol}\\t is {price:.2f}.\\t Weighted price is {expected_price:.2f}')\n",
    "    \n",
    "# stocks = pd.DataFrame(dataset)\n",
    "print(f'\\nExpected price {expected_price:.2f}')"
   ]
  },
  {
   "cell_type": "code",
   "execution_count": 3,
   "metadata": {},
   "outputs": [
    {
     "data": {
      "text/plain": [
       "26.725617315816876"
      ]
     },
     "execution_count": 3,
     "metadata": {},
     "output_type": "execute_result"
    }
   ],
   "source": [
    "expected_price"
   ]
  },
  {
   "cell_type": "code",
   "execution_count": 8,
   "metadata": {},
   "outputs": [
    {
     "data": {
      "text/plain": [
       "8.345000267028809"
      ]
     },
     "execution_count": 8,
     "metadata": {},
     "output_type": "execute_result"
    }
   ],
   "source": [
    "get_live_price('XEG.to')"
   ]
  },
  {
   "cell_type": "code",
   "execution_count": 4,
   "metadata": {},
   "outputs": [],
   "source": [
    "# stocks.head(5)\n",
    "# stocks.tail(5)"
   ]
  },
  {
   "cell_type": "code",
   "execution_count": 5,
   "metadata": {},
   "outputs": [],
   "source": [
    "# stocks.shape[0]\n",
    "# stocks=stocks.dropna()\n",
    "# stocks.shape[0]\n",
    "# stocks.plot(grid=True, figsize=(18, 6))"
   ]
  },
  {
   "cell_type": "code",
   "execution_count": 6,
   "metadata": {},
   "outputs": [],
   "source": [
    "# def normIt(myDf):\n",
    "#    return (myDf - myDf.mean()) / (myDf.max() - myDf.min())\n",
    "\n",
    "# stocks_norm = normIt(stocks)\n",
    "# stocks_norm.shape[0]\n",
    "# stocks_norm= stocks_norm.dropna()\n",
    "# stocks_norm.shape[0]\n",
    "# stocks_norm.plot(grid=True, figsize=(18, 6))"
   ]
  },
  {
   "cell_type": "code",
   "execution_count": null,
   "metadata": {},
   "outputs": [],
   "source": []
  },
  {
   "cell_type": "code",
   "execution_count": null,
   "metadata": {},
   "outputs": [],
   "source": []
  },
  {
   "cell_type": "code",
   "execution_count": null,
   "metadata": {},
   "outputs": [],
   "source": []
  },
  {
   "cell_type": "code",
   "execution_count": null,
   "metadata": {},
   "outputs": [],
   "source": []
  },
  {
   "cell_type": "code",
   "execution_count": null,
   "metadata": {},
   "outputs": [],
   "source": []
  },
  {
   "cell_type": "code",
   "execution_count": null,
   "metadata": {},
   "outputs": [],
   "source": []
  }
 ],
 "metadata": {
  "colab": {
   "collapsed_sections": [],
   "include_colab_link": true,
   "name": "stock algo trading - CCI.ipynb",
   "provenance": [],
   "version": "0.3.2"
  },
  "kernelspec": {
   "display_name": "Python 3",
   "language": "python",
   "name": "python3"
  },
  "language_info": {
   "codemirror_mode": {
    "name": "ipython",
    "version": 3
   },
   "file_extension": ".py",
   "mimetype": "text/x-python",
   "name": "python",
   "nbconvert_exporter": "python",
   "pygments_lexer": "ipython3",
   "version": "3.7.9"
  }
 },
 "nbformat": 4,
 "nbformat_minor": 4
}
