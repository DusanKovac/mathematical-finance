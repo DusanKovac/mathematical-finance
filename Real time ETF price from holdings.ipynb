{
 "cells": [
  {
   "cell_type": "markdown",
   "metadata": {
    "colab_type": "text",
    "id": "view-in-github"
   },
   "source": [
    "<a href=\"https://colab.research.google.com/github/alik604/Notebooks/blob/master/Time%20Series/stock_algo_trading_CCI.ipynb\" target=\"_parent\"><img src=\"https://colab.research.google.com/assets/colab-badge.svg\" alt=\"Open In Colab\"/></a>"
   ]
  },
  {
   "cell_type": "code",
   "execution_count": 45,
   "metadata": {
    "colab": {
     "base_uri": "https://localhost:8080/",
     "height": 399
    },
    "colab_type": "code",
    "id": "ZFRj4XIEkjN_",
    "outputId": "3ad245e3-e559-4159-c871-a8474da52d98"
   },
   "outputs": [],
   "source": [
    "# Importing the libraries\n",
    "import math\n",
    "import datetime\n",
    "\n",
    "import numpy as np\n",
    "import pandas as pd\n",
    "\n",
    "import matplotlib.pyplot as plt\n",
    "plt.style.use('fivethirtyeight')\n",
    "plt.rcParams['figure.figsize'] = (15, 9)   # Change the size of plots\n",
    "\n",
    "from IPython.core.interactiveshell import InteractiveShell\n",
    "InteractiveShell.ast_node_interactivity = \"all\"\n",
    "\n",
    "# !pip yfinance\n",
    "import yfinance as yf\n",
    "import pandas_datareader.data as web\n",
    "\n",
    "# https://github.com/atreadw1492/yahoo_fin\n",
    "# !pip install yahoo_fin\n",
    "from yahoo_fin.stock_info import * # get_data, tickers_sp500, tickers_nasdaq, tickers_other, get_quote_table \n",
    "\n",
    "# !pip install ta\n",
    "import ta "
   ]
  },
  {
   "cell_type": "code",
   "execution_count": 69,
   "metadata": {},
   "outputs": [],
   "source": [
    "# get_quote_table('aapl')\n",
    "# get_data('aapl')"
   ]
  },
  {
   "cell_type": "code",
   "execution_count": 71,
   "metadata": {},
   "outputs": [],
   "source": [
    "def get_marketcap(symbol):\n",
    "    tmp = get_quote_table(symbol)['Market Cap']\n",
    "    if 'B' in tmp:\n",
    "        return  Billion * float(tmp[:-1])\n",
    "    elif 'M' in tmp:\n",
    "        return  Million * float(tmp[:-1])\n",
    "    else:\n",
    "        print(f'What????, {tmp}')"
   ]
  },
  {
   "cell_type": "code",
   "execution_count": 72,
   "metadata": {},
   "outputs": [],
   "source": [
    "start = datetime.datetime(2016,1,1)\n",
    "# start = datetime.datetime(2020,3,21)\n",
    "end = datetime.date.today()\n",
    "\n",
    "Billion = 1000000000  \n",
    "Million = 1000000  "
   ]
  },
  {
   "cell_type": "code",
   "execution_count": 73,
   "metadata": {},
   "outputs": [],
   "source": [
    "# Correct as of 18 may https://www.blackrock.com/ca/investors/en/products/239839/ishares-sptsx-capped-energy-index-etf\n",
    "symbols = ['CNQ.to', 'SU.to', 'CVE.to', 'IMO.to', 'TOU.to', 'ARX.to', 'WCP.to', 'PSK.to', 'CPG.to', 'PXT.to', 'MEG.to', 'ERF.to', 'VET.to']\n",
    "weights = [25.51, 24.45, 11.96, 8.41, 7.67, 5.90, 2.80, 2.69, 2.56, 2.55, 2.08, 1.89, 1.50] # 0.03 in cash \n",
    "weights = np.array(weights)/100 \n",
    "symbol_weights = dict(zip(symbols, weights))"
   ]
  },
  {
   "cell_type": "code",
   "execution_count": 76,
   "metadata": {
    "colab": {
     "base_uri": "https://localhost:8080/",
     "height": 696
    },
    "colab_type": "code",
    "id": "dulAplofkoht",
    "outputId": "ef972aad-5f61-4db9-beee-260d5e7d4cbf"
   },
   "outputs": [
    {
     "name": "stdout",
     "output_type": "stream",
     "text": [
      "CNQ.to\t Weighted price is 41.86 * 0.26 = 10.68\n",
      "SU.to\t Weighted price is 28.79 * 0.24 = 7.04\n",
      "CVE.to\t Weighted price is 9.91 * 0.12 = 1.19\n",
      "IMO.to\t Weighted price is 39.33 * 0.08 = 3.31\n",
      "TOU.to\t Weighted price is 29.25 * 0.08 = 2.24\n",
      "ARX.to\t Weighted price is 9.31 * 0.06 = 0.55\n",
      "WCP.to\t Weighted price is 5.86 * 0.03 = 0.16\n",
      "PSK.to\t Weighted price is 13.77 * 0.03 = 0.37\n",
      "CPG.to\t Weighted price is 5.01 * 0.03 = 0.13\n",
      "PXT.to\t Weighted price is 20.34 * 0.03 = 0.52\n",
      "MEG.to\t Weighted price is 7.68 * 0.02 = 0.16\n",
      "ERF.to\t Weighted price is 7.66 * 0.02 = 0.14\n",
      "VET.to\t Weighted price is 9.61 * 0.01 = 0.14\n",
      "\n",
      "Computed price 1093143653.24 Expected price 8.31\n"
     ]
    }
   ],
   "source": [
    "# dataset = dict()\n",
    "# dataset['XEG.TO'] = yf.download('XEG.TO', start, end)[\"Adj Close\"]\n",
    "\n",
    "computed_price = 0.03/100 # cash held     \n",
    "\n",
    "for symbol in symbols:\n",
    "#     dataset[symbol] = yf.download(symbol, start, end)[\"Adj Close\"]\n",
    "   \n",
    "    marketcap = get_marketcap(symbol)\n",
    "    price = get_live_price(symbol)\n",
    "    \n",
    "    computed_price += (symbol_weights[symbol] * marketcap) / price \n",
    "    \n",
    "    print(f'{symbol}\\t Weighted price is {price:.2f} * {symbol_weights[symbol]:.2f} = {price * symbol_weights[symbol]:.2f}')\n",
    "    \n",
    "# stocks = pd.DataFrame(dataset)\n",
    "print(f'\\nComputed price {computed_price:.2f} Expected price {get_live_price(\"XEG.to\"):.2f}')"
   ]
  },
  {
   "cell_type": "markdown",
   "metadata": {},
   "source": [
    "#### XEG.CA Split History:    Aug 6, 2008 - 4:1"
   ]
  },
  {
   "cell_type": "code",
   "execution_count": 83,
   "metadata": {},
   "outputs": [
    {
     "name": "stdout",
     "output_type": "stream",
     "text": [
      "Computed price 273285913.31 Expected price 8.31\n"
     ]
    }
   ],
   "source": [
    "computed_price_adj = computed_price/4\n",
    "print(f'Computed price {computed_price_adj:.2f} Expected price {get_live_price(\"XEG.to\"):.2f}')"
   ]
  },
  {
   "cell_type": "code",
   "execution_count": 85,
   "metadata": {},
   "outputs": [
    {
     "data": {
      "text/plain": [
       "7.168155103185169"
      ]
     },
     "execution_count": 85,
     "metadata": {},
     "output_type": "execute_result"
    }
   ],
   "source": [
    "XEG_shares_outstanding = 152500000\n",
    "computed_price/XEG_shares_outstanding"
   ]
  },
  {
   "cell_type": "code",
   "execution_count": 4,
   "metadata": {},
   "outputs": [],
   "source": [
    "# stocks.head(5)\n",
    "# stocks.tail(5)"
   ]
  },
  {
   "cell_type": "code",
   "execution_count": 5,
   "metadata": {},
   "outputs": [],
   "source": [
    "# stocks.shape[0]\n",
    "# stocks=stocks.dropna()\n",
    "# stocks.shape[0]\n",
    "# stocks.plot(grid=True, figsize=(18, 6))"
   ]
  },
  {
   "cell_type": "code",
   "execution_count": 6,
   "metadata": {},
   "outputs": [],
   "source": [
    "# def normIt(myDf):\n",
    "#    return (myDf - myDf.mean()) / (myDf.max() - myDf.min())\n",
    "\n",
    "# stocks_norm = normIt(stocks)\n",
    "# stocks_norm.shape[0]\n",
    "# stocks_norm= stocks_norm.dropna()\n",
    "# stocks_norm.shape[0]\n",
    "# stocks_norm.plot(grid=True, figsize=(18, 6))"
   ]
  },
  {
   "cell_type": "code",
   "execution_count": null,
   "metadata": {},
   "outputs": [],
   "source": []
  },
  {
   "cell_type": "code",
   "execution_count": null,
   "metadata": {},
   "outputs": [],
   "source": []
  },
  {
   "cell_type": "code",
   "execution_count": null,
   "metadata": {},
   "outputs": [],
   "source": []
  },
  {
   "cell_type": "code",
   "execution_count": null,
   "metadata": {},
   "outputs": [],
   "source": []
  },
  {
   "cell_type": "code",
   "execution_count": null,
   "metadata": {},
   "outputs": [],
   "source": []
  },
  {
   "cell_type": "code",
   "execution_count": null,
   "metadata": {},
   "outputs": [],
   "source": []
  }
 ],
 "metadata": {
  "colab": {
   "collapsed_sections": [],
   "include_colab_link": true,
   "name": "stock algo trading - CCI.ipynb",
   "provenance": [],
   "version": "0.3.2"
  },
  "kernelspec": {
   "display_name": "Python 3",
   "language": "python",
   "name": "python3"
  },
  "language_info": {
   "codemirror_mode": {
    "name": "ipython",
    "version": 3
   },
   "file_extension": ".py",
   "mimetype": "text/x-python",
   "name": "python",
   "nbconvert_exporter": "python",
   "pygments_lexer": "ipython3",
   "version": "3.7.9"
  }
 },
 "nbformat": 4,
 "nbformat_minor": 4
}
