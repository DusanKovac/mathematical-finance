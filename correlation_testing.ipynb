{
 "cells": [
  {
   "cell_type": "markdown",
   "metadata": {
    "colab_type": "text",
    "id": "view-in-github"
   },
   "source": [
    "<a href=\"https://colab.research.google.com/github/alik604/Notebooks/blob/master/google-Colab/correlation_testing.ipynb\" target=\"_parent\"><img src=\"https://colab.research.google.com/assets/colab-badge.svg\" alt=\"Open In Colab\"/></a>"
   ]
  },
  {
   "cell_type": "code",
   "execution_count": 1,
   "metadata": {
    "colab": {
     "base_uri": "https://localhost:8080/",
     "height": 235
    },
    "colab_type": "code",
    "id": "m8SUlyW9xhdG",
    "outputId": "41915dac-fe17-4f10-b99e-afdd1c4174ae"
   },
   "outputs": [],
   "source": [
    "# Importing the libraries\n",
    "import math\n",
    "import scipy\n",
    "import numpy as np\n",
    "import pandas as pd\n",
    "\n",
    "import matplotlib.pyplot as plt\n",
    "plt.style.use('fivethirtyeight')\n",
    "from sklearn.metrics import mean_squared_error\n",
    "from sklearn import preprocessing\n",
    "\n",
    "import yfinance as yf"
   ]
  },
  {
   "cell_type": "code",
   "execution_count": 2,
   "metadata": {
    "colab": {
     "base_uri": "https://localhost:8080/",
     "height": 355
    },
    "colab_type": "code",
    "id": "pu3zopIPxn3Y",
    "outputId": "edaa57ec-fbe3-4ab1-aec6-9071d48cb7e9"
   },
   "outputs": [
    {
     "name": "stdout",
     "output_type": "stream",
     "text": [
      "[*********************100%***********************]  1 of 1 completed\n",
      "[*********************100%***********************]  1 of 1 completed\n",
      "[*********************100%***********************]  1 of 1 completed\n",
      "[*********************100%***********************]  1 of 1 completed\n",
      "[*********************100%***********************]  1 of 1 completed\n",
      "[*********************100%***********************]  1 of 1 completed\n",
      "[*********************100%***********************]  1 of 1 completed\n"
     ]
    },
    {
     "data": {
      "text/html": [
       "<div>\n",
       "<style scoped>\n",
       "    .dataframe tbody tr th:only-of-type {\n",
       "        vertical-align: middle;\n",
       "    }\n",
       "\n",
       "    .dataframe tbody tr th {\n",
       "        vertical-align: top;\n",
       "    }\n",
       "\n",
       "    .dataframe thead th {\n",
       "        text-align: right;\n",
       "    }\n",
       "</style>\n",
       "<table border=\"1\" class=\"dataframe\">\n",
       "  <thead>\n",
       "    <tr style=\"text-align: right;\">\n",
       "      <th></th>\n",
       "      <th>SPX</th>\n",
       "      <th>SPX_MA_3</th>\n",
       "      <th>SPX_shift_3</th>\n",
       "      <th>SPXL</th>\n",
       "      <th>QQQ</th>\n",
       "      <th>TQQQ</th>\n",
       "      <th>GDX</th>\n",
       "      <th>GLD</th>\n",
       "      <th>GOLD</th>\n",
       "    </tr>\n",
       "    <tr>\n",
       "      <th>Date</th>\n",
       "      <th></th>\n",
       "      <th></th>\n",
       "      <th></th>\n",
       "      <th></th>\n",
       "      <th></th>\n",
       "      <th></th>\n",
       "      <th></th>\n",
       "      <th></th>\n",
       "      <th></th>\n",
       "    </tr>\n",
       "  </thead>\n",
       "  <tbody>\n",
       "    <tr>\n",
       "      <th>2013-02-26</th>\n",
       "      <td>150.020004</td>\n",
       "      <td>150.303335</td>\n",
       "      <td>150.419998</td>\n",
       "      <td>8.460000</td>\n",
       "      <td>66.559998</td>\n",
       "      <td>4.550833</td>\n",
       "      <td>39.049999</td>\n",
       "      <td>156.220001</td>\n",
       "      <td>0.13</td>\n",
       "    </tr>\n",
       "    <tr>\n",
       "      <th>2013-02-27</th>\n",
       "      <td>151.910004</td>\n",
       "      <td>150.310003</td>\n",
       "      <td>151.889999</td>\n",
       "      <td>8.773334</td>\n",
       "      <td>67.239998</td>\n",
       "      <td>4.689167</td>\n",
       "      <td>38.259998</td>\n",
       "      <td>154.570007</td>\n",
       "      <td>0.13</td>\n",
       "    </tr>\n",
       "    <tr>\n",
       "      <th>2013-02-28</th>\n",
       "      <td>151.610001</td>\n",
       "      <td>151.180003</td>\n",
       "      <td>149.000000</td>\n",
       "      <td>8.700000</td>\n",
       "      <td>67.099998</td>\n",
       "      <td>4.671667</td>\n",
       "      <td>37.400002</td>\n",
       "      <td>153.000000</td>\n",
       "      <td>0.13</td>\n",
       "    </tr>\n",
       "    <tr>\n",
       "      <th>2013-03-01</th>\n",
       "      <td>152.110001</td>\n",
       "      <td>151.876668</td>\n",
       "      <td>150.020004</td>\n",
       "      <td>8.818334</td>\n",
       "      <td>67.379997</td>\n",
       "      <td>4.720000</td>\n",
       "      <td>37.110001</td>\n",
       "      <td>152.440002</td>\n",
       "      <td>0.13</td>\n",
       "    </tr>\n",
       "    <tr>\n",
       "      <th>2013-03-04</th>\n",
       "      <td>152.919998</td>\n",
       "      <td>152.213333</td>\n",
       "      <td>151.910004</td>\n",
       "      <td>8.949166</td>\n",
       "      <td>67.680000</td>\n",
       "      <td>4.780833</td>\n",
       "      <td>35.910000</td>\n",
       "      <td>152.300003</td>\n",
       "      <td>0.10</td>\n",
       "    </tr>\n",
       "  </tbody>\n",
       "</table>\n",
       "</div>"
      ],
      "text/plain": [
       "                   SPX    SPX_MA_3  SPX_shift_3      SPXL        QQQ  \\\n",
       "Date                                                                   \n",
       "2013-02-26  150.020004  150.303335   150.419998  8.460000  66.559998   \n",
       "2013-02-27  151.910004  150.310003   151.889999  8.773334  67.239998   \n",
       "2013-02-28  151.610001  151.180003   149.000000  8.700000  67.099998   \n",
       "2013-03-01  152.110001  151.876668   150.020004  8.818334  67.379997   \n",
       "2013-03-04  152.919998  152.213333   151.910004  8.949166  67.680000   \n",
       "\n",
       "                TQQQ        GDX         GLD  GOLD  \n",
       "Date                                               \n",
       "2013-02-26  4.550833  39.049999  156.220001  0.13  \n",
       "2013-02-27  4.689167  38.259998  154.570007  0.13  \n",
       "2013-02-28  4.671667  37.400002  153.000000  0.13  \n",
       "2013-03-01  4.720000  37.110001  152.440002  0.13  \n",
       "2013-03-04  4.780833  35.910000  152.300003  0.10  "
      ]
     },
     "execution_count": 2,
     "metadata": {},
     "output_type": "execute_result"
    }
   ],
   "source": [
    "\n",
    "DATA = \"2000-1-1\"\n",
    "SPX = yf.download('spy',DATA).drop(columns=  ['Open','High', 'Low','Adj Close','Volume'])\n",
    "\n",
    "df = pd.DataFrame({\n",
    "    'SPX':SPX.Close,\n",
    "    'SPX_MA_3':SPX.Close.rolling(window=3).mean(),\n",
    "    'SPX_shift_3':SPX.Close.shift(periods= 3),\n",
    "    'SPXL':yf.download('SPXL', DATA).drop(columns=['Open','High', 'Low','Adj Close','Volume']).Close,\n",
    "    'QQQ':yf.download('qqq',   DATA).drop(columns=['Open','High', 'Low','Adj Close','Volume']).Close,\n",
    "    'TQQQ':yf.download('TQQQ', DATA).drop(columns=['Open','High', 'Low','Adj Close','Volume']).Close,\n",
    "    'GDX':yf.download('GDX',   DATA).drop(columns=['Open','High', 'Low','Adj Close','Volume']).Close,\n",
    "    'GLD':yf.download('GLD',   DATA).drop(columns=['Open','High', 'Low','Adj Close','Volume']).Close,\n",
    "    'GOLD':yf.download('XAU',  DATA).drop(columns=['Open','High', 'Low','Adj Close','Volume']).Close\n",
    "})\n",
    "\n",
    "df.dropna(inplace=True)\n",
    "df.head(5)"
   ]
  },
  {
   "cell_type": "code",
   "execution_count": 3,
   "metadata": {
    "colab": {
     "base_uri": "https://localhost:8080/",
     "height": 35
    },
    "colab_type": "code",
    "id": "PT0OoLHQ6Da2",
    "outputId": "334c69ab-a460-4ae3-e1fd-d4cffcbd1915"
   },
   "outputs": [
    {
     "data": {
      "text/plain": [
       "9746.982492264618"
      ]
     },
     "execution_count": 3,
     "metadata": {},
     "output_type": "execute_result"
    }
   ],
   "source": [
    "mse = mean_squared_error(df.SPX, df.QQQ)\n",
    "mse"
   ]
  },
  {
   "cell_type": "code",
   "execution_count": 4,
   "metadata": {
    "colab": {
     "base_uri": "https://localhost:8080/",
     "height": 228
    },
    "colab_type": "code",
    "id": "GiKYDPtK6Ddt",
    "outputId": "749361bb-c8d4-44e5-9a66-012db3208583"
   },
   "outputs": [
    {
     "data": {
      "text/html": [
       "<div>\n",
       "<style scoped>\n",
       "    .dataframe tbody tr th:only-of-type {\n",
       "        vertical-align: middle;\n",
       "    }\n",
       "\n",
       "    .dataframe tbody tr th {\n",
       "        vertical-align: top;\n",
       "    }\n",
       "\n",
       "    .dataframe thead th {\n",
       "        text-align: right;\n",
       "    }\n",
       "</style>\n",
       "<table border=\"1\" class=\"dataframe\">\n",
       "  <thead>\n",
       "    <tr style=\"text-align: right;\">\n",
       "      <th></th>\n",
       "      <th>SPX</th>\n",
       "      <th>SPX_MA_3</th>\n",
       "      <th>SPX_shift_3</th>\n",
       "      <th>SPXL</th>\n",
       "      <th>QQQ</th>\n",
       "      <th>TQQQ</th>\n",
       "      <th>GDX</th>\n",
       "      <th>GLD</th>\n",
       "      <th>GOLD</th>\n",
       "    </tr>\n",
       "    <tr>\n",
       "      <th>Date</th>\n",
       "      <th></th>\n",
       "      <th></th>\n",
       "      <th></th>\n",
       "      <th></th>\n",
       "      <th></th>\n",
       "      <th></th>\n",
       "      <th></th>\n",
       "      <th></th>\n",
       "      <th></th>\n",
       "    </tr>\n",
       "  </thead>\n",
       "  <tbody>\n",
       "    <tr>\n",
       "      <th>2013-02-26</th>\n",
       "      <td>0.000000</td>\n",
       "      <td>0.000000</td>\n",
       "      <td>0.010573</td>\n",
       "      <td>0.000000</td>\n",
       "      <td>0.000000</td>\n",
       "      <td>0.000000</td>\n",
       "      <td>1.000000</td>\n",
       "      <td>0.999462</td>\n",
       "      <td>0.006984</td>\n",
       "    </tr>\n",
       "    <tr>\n",
       "      <th>2013-02-27</th>\n",
       "      <td>0.013840</td>\n",
       "      <td>0.000050</td>\n",
       "      <td>0.021519</td>\n",
       "      <td>0.006809</td>\n",
       "      <td>0.006515</td>\n",
       "      <td>0.002465</td>\n",
       "      <td>0.970278</td>\n",
       "      <td>0.969866</td>\n",
       "      <td>0.006984</td>\n",
       "    </tr>\n",
       "    <tr>\n",
       "      <th>2013-02-28</th>\n",
       "      <td>0.011643</td>\n",
       "      <td>0.006516</td>\n",
       "      <td>0.000000</td>\n",
       "      <td>0.005215</td>\n",
       "      <td>0.005174</td>\n",
       "      <td>0.002153</td>\n",
       "      <td>0.937923</td>\n",
       "      <td>0.941704</td>\n",
       "      <td>0.006984</td>\n",
       "    </tr>\n",
       "    <tr>\n",
       "      <th>2013-03-01</th>\n",
       "      <td>0.015305</td>\n",
       "      <td>0.011693</td>\n",
       "      <td>0.007595</td>\n",
       "      <td>0.007786</td>\n",
       "      <td>0.007857</td>\n",
       "      <td>0.003015</td>\n",
       "      <td>0.927013</td>\n",
       "      <td>0.931659</td>\n",
       "      <td>0.006984</td>\n",
       "    </tr>\n",
       "    <tr>\n",
       "      <th>2013-03-04</th>\n",
       "      <td>0.021236</td>\n",
       "      <td>0.014195</td>\n",
       "      <td>0.021668</td>\n",
       "      <td>0.010629</td>\n",
       "      <td>0.010731</td>\n",
       "      <td>0.004099</td>\n",
       "      <td>0.881866</td>\n",
       "      <td>0.929148</td>\n",
       "      <td>0.003175</td>\n",
       "    </tr>\n",
       "  </tbody>\n",
       "</table>\n",
       "</div>"
      ],
      "text/plain": [
       "                 SPX  SPX_MA_3  SPX_shift_3      SPXL       QQQ      TQQQ  \\\n",
       "Date                                                                        \n",
       "2013-02-26  0.000000  0.000000     0.010573  0.000000  0.000000  0.000000   \n",
       "2013-02-27  0.013840  0.000050     0.021519  0.006809  0.006515  0.002465   \n",
       "2013-02-28  0.011643  0.006516     0.000000  0.005215  0.005174  0.002153   \n",
       "2013-03-01  0.015305  0.011693     0.007595  0.007786  0.007857  0.003015   \n",
       "2013-03-04  0.021236  0.014195     0.021668  0.010629  0.010731  0.004099   \n",
       "\n",
       "                 GDX       GLD      GOLD  \n",
       "Date                                      \n",
       "2013-02-26  1.000000  0.999462  0.006984  \n",
       "2013-02-27  0.970278  0.969866  0.006984  \n",
       "2013-02-28  0.937923  0.941704  0.006984  \n",
       "2013-03-01  0.927013  0.931659  0.006984  \n",
       "2013-03-04  0.881866  0.929148  0.003175  "
      ]
     },
     "execution_count": 4,
     "metadata": {},
     "output_type": "execute_result"
    }
   ],
   "source": [
    "norm_df=(df-df.min())/(df.max()-df.min())\n",
    "norm_df.head()"
   ]
  },
  {
   "cell_type": "code",
   "execution_count": 5,
   "metadata": {
    "colab": {
     "base_uri": "https://localhost:8080/",
     "height": 35
    },
    "colab_type": "code",
    "id": "CRZYzytO6Dg0",
    "outputId": "d7e98996-98ea-431c-8439-2c3dabf09e0f"
   },
   "outputs": [
    {
     "data": {
      "text/plain": [
       "0.09808706000887205"
      ]
     },
     "execution_count": 5,
     "metadata": {},
     "output_type": "execute_result"
    }
   ],
   "source": [
    "mse = mean_squared_error(norm_df.SPX, norm_df.GLD)\n",
    "mse"
   ]
  },
  {
   "cell_type": "code",
   "execution_count": 6,
   "metadata": {
    "colab": {
     "base_uri": "https://localhost:8080/",
     "height": 318
    },
    "colab_type": "code",
    "id": "S3XNxVzjVzQu",
    "outputId": "520543d9-7fab-4522-8646-5a1d4a8b3f9a"
   },
   "outputs": [
    {
     "data": {
      "text/html": [
       "<div>\n",
       "<style scoped>\n",
       "    .dataframe tbody tr th:only-of-type {\n",
       "        vertical-align: middle;\n",
       "    }\n",
       "\n",
       "    .dataframe tbody tr th {\n",
       "        vertical-align: top;\n",
       "    }\n",
       "\n",
       "    .dataframe thead th {\n",
       "        text-align: right;\n",
       "    }\n",
       "</style>\n",
       "<table border=\"1\" class=\"dataframe\">\n",
       "  <thead>\n",
       "    <tr style=\"text-align: right;\">\n",
       "      <th></th>\n",
       "      <th>SPX</th>\n",
       "      <th>SPX_MA_3</th>\n",
       "      <th>SPX_shift_3</th>\n",
       "      <th>SPXL</th>\n",
       "      <th>QQQ</th>\n",
       "      <th>TQQQ</th>\n",
       "      <th>GDX</th>\n",
       "      <th>GLD</th>\n",
       "      <th>GOLD</th>\n",
       "    </tr>\n",
       "  </thead>\n",
       "  <tbody>\n",
       "    <tr>\n",
       "      <th>SPX</th>\n",
       "      <td>0.000000</td>\n",
       "      <td>0.000085</td>\n",
       "      <td>0.000505</td>\n",
       "      <td>0.012054</td>\n",
       "      <td>0.001424</td>\n",
       "      <td>0.026386</td>\n",
       "      <td>0.093452</td>\n",
       "      <td>0.098087</td>\n",
       "      <td>0.057934</td>\n",
       "    </tr>\n",
       "    <tr>\n",
       "      <th>SPX_MA_3</th>\n",
       "      <td>0.000085</td>\n",
       "      <td>0.000000</td>\n",
       "      <td>0.000264</td>\n",
       "      <td>0.012922</td>\n",
       "      <td>0.001483</td>\n",
       "      <td>0.027555</td>\n",
       "      <td>0.095187</td>\n",
       "      <td>0.100049</td>\n",
       "      <td>0.058749</td>\n",
       "    </tr>\n",
       "    <tr>\n",
       "      <th>SPX_shift_3</th>\n",
       "      <td>0.000505</td>\n",
       "      <td>0.000264</td>\n",
       "      <td>0.000000</td>\n",
       "      <td>0.015238</td>\n",
       "      <td>0.002130</td>\n",
       "      <td>0.030700</td>\n",
       "      <td>0.096057</td>\n",
       "      <td>0.101328</td>\n",
       "      <td>0.061079</td>\n",
       "    </tr>\n",
       "    <tr>\n",
       "      <th>SPXL</th>\n",
       "      <td>0.012054</td>\n",
       "      <td>0.012922</td>\n",
       "      <td>0.015238</td>\n",
       "      <td>0.000000</td>\n",
       "      <td>0.010233</td>\n",
       "      <td>0.003214</td>\n",
       "      <td>0.089919</td>\n",
       "      <td>0.087522</td>\n",
       "      <td>0.046098</td>\n",
       "    </tr>\n",
       "    <tr>\n",
       "      <th>QQQ</th>\n",
       "      <td>0.001424</td>\n",
       "      <td>0.001483</td>\n",
       "      <td>0.002130</td>\n",
       "      <td>0.010233</td>\n",
       "      <td>0.000000</td>\n",
       "      <td>0.021489</td>\n",
       "      <td>0.104782</td>\n",
       "      <td>0.107771</td>\n",
       "      <td>0.049407</td>\n",
       "    </tr>\n",
       "    <tr>\n",
       "      <th>TQQQ</th>\n",
       "      <td>0.026386</td>\n",
       "      <td>0.027555</td>\n",
       "      <td>0.030700</td>\n",
       "      <td>0.003214</td>\n",
       "      <td>0.021489</td>\n",
       "      <td>0.000000</td>\n",
       "      <td>0.102616</td>\n",
       "      <td>0.095916</td>\n",
       "      <td>0.044658</td>\n",
       "    </tr>\n",
       "    <tr>\n",
       "      <th>GDX</th>\n",
       "      <td>0.093452</td>\n",
       "      <td>0.095187</td>\n",
       "      <td>0.096057</td>\n",
       "      <td>0.089919</td>\n",
       "      <td>0.104782</td>\n",
       "      <td>0.102616</td>\n",
       "      <td>0.000000</td>\n",
       "      <td>0.004466</td>\n",
       "      <td>0.151234</td>\n",
       "    </tr>\n",
       "    <tr>\n",
       "      <th>GLD</th>\n",
       "      <td>0.098087</td>\n",
       "      <td>0.100049</td>\n",
       "      <td>0.101328</td>\n",
       "      <td>0.087522</td>\n",
       "      <td>0.107771</td>\n",
       "      <td>0.095916</td>\n",
       "      <td>0.004466</td>\n",
       "      <td>0.000000</td>\n",
       "      <td>0.148044</td>\n",
       "    </tr>\n",
       "    <tr>\n",
       "      <th>GOLD</th>\n",
       "      <td>0.057934</td>\n",
       "      <td>0.058749</td>\n",
       "      <td>0.061079</td>\n",
       "      <td>0.046098</td>\n",
       "      <td>0.049407</td>\n",
       "      <td>0.044658</td>\n",
       "      <td>0.151234</td>\n",
       "      <td>0.148044</td>\n",
       "      <td>0.000000</td>\n",
       "    </tr>\n",
       "  </tbody>\n",
       "</table>\n",
       "</div>"
      ],
      "text/plain": [
       "                  SPX  SPX_MA_3  SPX_shift_3      SPXL       QQQ      TQQQ  \\\n",
       "SPX          0.000000  0.000085     0.000505  0.012054  0.001424  0.026386   \n",
       "SPX_MA_3     0.000085  0.000000     0.000264  0.012922  0.001483  0.027555   \n",
       "SPX_shift_3  0.000505  0.000264     0.000000  0.015238  0.002130  0.030700   \n",
       "SPXL         0.012054  0.012922     0.015238  0.000000  0.010233  0.003214   \n",
       "QQQ          0.001424  0.001483     0.002130  0.010233  0.000000  0.021489   \n",
       "TQQQ         0.026386  0.027555     0.030700  0.003214  0.021489  0.000000   \n",
       "GDX          0.093452  0.095187     0.096057  0.089919  0.104782  0.102616   \n",
       "GLD          0.098087  0.100049     0.101328  0.087522  0.107771  0.095916   \n",
       "GOLD         0.057934  0.058749     0.061079  0.046098  0.049407  0.044658   \n",
       "\n",
       "                  GDX       GLD      GOLD  \n",
       "SPX          0.093452  0.098087  0.057934  \n",
       "SPX_MA_3     0.095187  0.100049  0.058749  \n",
       "SPX_shift_3  0.096057  0.101328  0.061079  \n",
       "SPXL         0.089919  0.087522  0.046098  \n",
       "QQQ          0.104782  0.107771  0.049407  \n",
       "TQQQ         0.102616  0.095916  0.044658  \n",
       "GDX          0.000000  0.004466  0.151234  \n",
       "GLD          0.004466  0.000000  0.148044  \n",
       "GOLD         0.151234  0.148044  0.000000  "
      ]
     },
     "execution_count": 6,
     "metadata": {},
     "output_type": "execute_result"
    }
   ],
   "source": [
    "def get_mse_df(df=df):\n",
    "  Matrix = [[round(mean_squared_error(df.iloc[:, row],df.iloc[:, col]),6) for row in range(df.columns.size)] for col in range(df.columns.size)] \n",
    "  cols = df.columns\n",
    "\n",
    "  mse_df = pd.DataFrame(Matrix, columns=cols, index=cols)\n",
    "  return mse_df\n",
    "\n",
    "mse_df=get_mse_df(norm_df)\n",
    "mse_df"
   ]
  },
  {
   "cell_type": "code",
   "execution_count": 7,
   "metadata": {
    "colab": {
     "base_uri": "https://localhost:8080/",
     "height": 318
    },
    "colab_type": "code",
    "id": "P6AGCPWk6Dju",
    "outputId": "6eb4a0f2-f242-498d-8526-3e5afbf2677c"
   },
   "outputs": [
    {
     "data": {
      "text/html": [
       "<div>\n",
       "<style scoped>\n",
       "    .dataframe tbody tr th:only-of-type {\n",
       "        vertical-align: middle;\n",
       "    }\n",
       "\n",
       "    .dataframe tbody tr th {\n",
       "        vertical-align: top;\n",
       "    }\n",
       "\n",
       "    .dataframe thead th {\n",
       "        text-align: right;\n",
       "    }\n",
       "</style>\n",
       "<table border=\"1\" class=\"dataframe\">\n",
       "  <thead>\n",
       "    <tr style=\"text-align: right;\">\n",
       "      <th></th>\n",
       "      <th>SPX</th>\n",
       "      <th>SPX_MA_3</th>\n",
       "      <th>SPX_shift_3</th>\n",
       "      <th>SPXL</th>\n",
       "      <th>QQQ</th>\n",
       "      <th>TQQQ</th>\n",
       "      <th>GDX</th>\n",
       "      <th>GLD</th>\n",
       "      <th>GOLD</th>\n",
       "    </tr>\n",
       "  </thead>\n",
       "  <tbody>\n",
       "    <tr>\n",
       "      <th>SPX</th>\n",
       "      <td>1.000000</td>\n",
       "      <td>0.999226</td>\n",
       "      <td>0.995949</td>\n",
       "      <td>0.987741</td>\n",
       "      <td>0.991410</td>\n",
       "      <td>0.967925</td>\n",
       "      <td>-0.253394</td>\n",
       "      <td>-0.357541</td>\n",
       "      <td>0.686482</td>\n",
       "    </tr>\n",
       "    <tr>\n",
       "      <th>SPX_MA_3</th>\n",
       "      <td>0.999226</td>\n",
       "      <td>1.000000</td>\n",
       "      <td>0.997884</td>\n",
       "      <td>0.986674</td>\n",
       "      <td>0.991271</td>\n",
       "      <td>0.967226</td>\n",
       "      <td>-0.256636</td>\n",
       "      <td>-0.360644</td>\n",
       "      <td>0.687352</td>\n",
       "    </tr>\n",
       "    <tr>\n",
       "      <th>SPX_shift_3</th>\n",
       "      <td>0.995949</td>\n",
       "      <td>0.997884</td>\n",
       "      <td>1.000000</td>\n",
       "      <td>0.982738</td>\n",
       "      <td>0.989166</td>\n",
       "      <td>0.963932</td>\n",
       "      <td>-0.262508</td>\n",
       "      <td>-0.366229</td>\n",
       "      <td>0.687650</td>\n",
       "    </tr>\n",
       "    <tr>\n",
       "      <th>SPXL</th>\n",
       "      <td>0.987741</td>\n",
       "      <td>0.986674</td>\n",
       "      <td>0.982738</td>\n",
       "      <td>1.000000</td>\n",
       "      <td>0.980085</td>\n",
       "      <td>0.990097</td>\n",
       "      <td>-0.187927</td>\n",
       "      <td>-0.268224</td>\n",
       "      <td>0.653496</td>\n",
       "    </tr>\n",
       "    <tr>\n",
       "      <th>QQQ</th>\n",
       "      <td>0.991410</td>\n",
       "      <td>0.991271</td>\n",
       "      <td>0.989166</td>\n",
       "      <td>0.980085</td>\n",
       "      <td>1.000000</td>\n",
       "      <td>0.976068</td>\n",
       "      <td>-0.282307</td>\n",
       "      <td>-0.370852</td>\n",
       "      <td>0.728362</td>\n",
       "    </tr>\n",
       "    <tr>\n",
       "      <th>TQQQ</th>\n",
       "      <td>0.967925</td>\n",
       "      <td>0.967226</td>\n",
       "      <td>0.963932</td>\n",
       "      <td>0.990097</td>\n",
       "      <td>0.976068</td>\n",
       "      <td>1.000000</td>\n",
       "      <td>-0.195854</td>\n",
       "      <td>-0.249089</td>\n",
       "      <td>0.670448</td>\n",
       "    </tr>\n",
       "    <tr>\n",
       "      <th>GDX</th>\n",
       "      <td>-0.253394</td>\n",
       "      <td>-0.256636</td>\n",
       "      <td>-0.262508</td>\n",
       "      <td>-0.187927</td>\n",
       "      <td>-0.282307</td>\n",
       "      <td>-0.195854</td>\n",
       "      <td>1.000000</td>\n",
       "      <td>0.938082</td>\n",
       "      <td>-0.292432</td>\n",
       "    </tr>\n",
       "    <tr>\n",
       "      <th>GLD</th>\n",
       "      <td>-0.357541</td>\n",
       "      <td>-0.360644</td>\n",
       "      <td>-0.366229</td>\n",
       "      <td>-0.268224</td>\n",
       "      <td>-0.370852</td>\n",
       "      <td>-0.249089</td>\n",
       "      <td>0.938082</td>\n",
       "      <td>1.000000</td>\n",
       "      <td>-0.360520</td>\n",
       "    </tr>\n",
       "    <tr>\n",
       "      <th>GOLD</th>\n",
       "      <td>0.686482</td>\n",
       "      <td>0.687352</td>\n",
       "      <td>0.687650</td>\n",
       "      <td>0.653496</td>\n",
       "      <td>0.728362</td>\n",
       "      <td>0.670448</td>\n",
       "      <td>-0.292432</td>\n",
       "      <td>-0.360520</td>\n",
       "      <td>1.000000</td>\n",
       "    </tr>\n",
       "  </tbody>\n",
       "</table>\n",
       "</div>"
      ],
      "text/plain": [
       "                  SPX  SPX_MA_3  SPX_shift_3      SPXL       QQQ      TQQQ  \\\n",
       "SPX          1.000000  0.999226     0.995949  0.987741  0.991410  0.967925   \n",
       "SPX_MA_3     0.999226  1.000000     0.997884  0.986674  0.991271  0.967226   \n",
       "SPX_shift_3  0.995949  0.997884     1.000000  0.982738  0.989166  0.963932   \n",
       "SPXL         0.987741  0.986674     0.982738  1.000000  0.980085  0.990097   \n",
       "QQQ          0.991410  0.991271     0.989166  0.980085  1.000000  0.976068   \n",
       "TQQQ         0.967925  0.967226     0.963932  0.990097  0.976068  1.000000   \n",
       "GDX         -0.253394 -0.256636    -0.262508 -0.187927 -0.282307 -0.195854   \n",
       "GLD         -0.357541 -0.360644    -0.366229 -0.268224 -0.370852 -0.249089   \n",
       "GOLD         0.686482  0.687352     0.687650  0.653496  0.728362  0.670448   \n",
       "\n",
       "                  GDX       GLD      GOLD  \n",
       "SPX         -0.253394 -0.357541  0.686482  \n",
       "SPX_MA_3    -0.256636 -0.360644  0.687352  \n",
       "SPX_shift_3 -0.262508 -0.366229  0.687650  \n",
       "SPXL        -0.187927 -0.268224  0.653496  \n",
       "QQQ         -0.282307 -0.370852  0.728362  \n",
       "TQQQ        -0.195854 -0.249089  0.670448  \n",
       "GDX          1.000000  0.938082 -0.292432  \n",
       "GLD          0.938082  1.000000 -0.360520  \n",
       "GOLD        -0.292432 -0.360520  1.000000  "
      ]
     },
     "execution_count": 7,
     "metadata": {},
     "output_type": "execute_result"
    }
   ],
   "source": [
    "norm_df.corr()"
   ]
  },
  {
   "cell_type": "code",
   "execution_count": 18,
   "metadata": {
    "colab": {
     "base_uri": "https://localhost:8080/",
     "height": 654
    },
    "colab_type": "code",
    "id": "r7Nzgx92VjKS",
    "outputId": "7edff9c2-d554-4521-b769-a51686e14678"
   },
   "outputs": [
    {
     "name": "stdout",
     "output_type": "stream",
     "text": [
      "\n",
      "Granger Causality\n",
      "number of lags (no zero) 1\n",
      "ssr based F test:         F=1.6244  , p=0.2027  , df_denom=1180, df_num=1\n",
      "ssr based chi2 test:   chi2=1.6285  , p=0.2019  , df=1\n",
      "likelihood ratio test: chi2=1.6274  , p=0.2021  , df=1\n",
      "parameter F test:         F=1.6244  , p=0.2027  , df_denom=1180, df_num=1\n",
      "\n",
      "Granger Causality\n",
      "number of lags (no zero) 2\n",
      "ssr based F test:         F=0.1328  , p=0.8756  , df_denom=1177, df_num=2\n",
      "ssr based chi2 test:   chi2=0.2668  , p=0.8751  , df=2\n",
      "likelihood ratio test: chi2=0.2667  , p=0.8751  , df=2\n",
      "parameter F test:         F=0.1328  , p=0.8756  , df_denom=1177, df_num=2\n",
      "\n",
      "Granger Causality\n",
      "number of lags (no zero) 3\n",
      "ssr based F test:         F=3.6690  , p=0.0119  , df_denom=1174, df_num=3\n",
      "ssr based chi2 test:   chi2=11.0727 , p=0.0113  , df=3\n",
      "likelihood ratio test: chi2=11.0211 , p=0.0116  , df=3\n",
      "parameter F test:         F=3.6690  , p=0.0119  , df_denom=1174, df_num=3\n"
     ]
    }
   ],
   "source": [
    "from statsmodels.tsa.stattools import grangercausalitytests\n",
    "gc_res = grangercausalitytests(norm_df[['SPX', 'SPX_MA_3']], 3)"
   ]
  },
  {
   "cell_type": "code",
   "execution_count": 19,
   "metadata": {
    "colab": {
     "base_uri": "https://localhost:8080/",
     "height": 654
    },
    "colab_type": "code",
    "id": "J90UYuGu9mpd",
    "outputId": "353d240a-ccb1-44bf-e540-5f7bfd3645fd"
   },
   "outputs": [
    {
     "name": "stdout",
     "output_type": "stream",
     "text": [
      "\n",
      "Granger Causality\n",
      "number of lags (no zero) 1\n",
      "ssr based F test:         F=1.8322  , p=0.1761  , df_denom=1180, df_num=1\n",
      "ssr based chi2 test:   chi2=1.8369  , p=0.1753  , df=1\n",
      "likelihood ratio test: chi2=1.8355  , p=0.1755  , df=1\n",
      "parameter F test:         F=1.8322  , p=0.1761  , df_denom=1180, df_num=1\n",
      "\n",
      "Granger Causality\n",
      "number of lags (no zero) 2\n",
      "ssr based F test:         F=3.7697  , p=0.0233  , df_denom=1177, df_num=2\n",
      "ssr based chi2 test:   chi2=7.5715  , p=0.0227  , df=2\n",
      "likelihood ratio test: chi2=7.5473  , p=0.0230  , df=2\n",
      "parameter F test:         F=3.7697  , p=0.0233  , df_denom=1177, df_num=2\n",
      "\n",
      "Granger Causality\n",
      "number of lags (no zero) 3\n",
      "ssr based F test:         F=2.4513  , p=0.0620  , df_denom=1174, df_num=3\n",
      "ssr based chi2 test:   chi2=7.3977  , p=0.0602  , df=3\n",
      "likelihood ratio test: chi2=7.3746  , p=0.0609  , df=3\n",
      "parameter F test:         F=2.4513  , p=0.0620  , df_denom=1174, df_num=3\n"
     ]
    }
   ],
   "source": [
    "gc_res = grangercausalitytests(norm_df[['SPX', 'SPX_shift_3']], 3)"
   ]
  },
  {
   "cell_type": "code",
   "execution_count": 20,
   "metadata": {
    "colab": {
     "base_uri": "https://localhost:8080/",
     "height": 654
    },
    "colab_type": "code",
    "id": "gM3Mfnn1VjNK",
    "outputId": "562edaf6-5025-4344-ba7f-0a7b7ac25bf7"
   },
   "outputs": [
    {
     "name": "stdout",
     "output_type": "stream",
     "text": [
      "\n",
      "Granger Causality\n",
      "number of lags (no zero) 1\n",
      "ssr based F test:         F=2.3315  , p=0.1270  , df_denom=1180, df_num=1\n",
      "ssr based chi2 test:   chi2=2.3374  , p=0.1263  , df=1\n",
      "likelihood ratio test: chi2=2.3351  , p=0.1265  , df=1\n",
      "parameter F test:         F=2.3315  , p=0.1270  , df_denom=1180, df_num=1\n",
      "\n",
      "Granger Causality\n",
      "number of lags (no zero) 2\n",
      "ssr based F test:         F=1.1046  , p=0.3317  , df_denom=1177, df_num=2\n",
      "ssr based chi2 test:   chi2=2.2187  , p=0.3298  , df=2\n",
      "likelihood ratio test: chi2=2.2166  , p=0.3301  , df=2\n",
      "parameter F test:         F=1.1046  , p=0.3317  , df_denom=1177, df_num=2\n",
      "\n",
      "Granger Causality\n",
      "number of lags (no zero) 3\n",
      "ssr based F test:         F=0.8506  , p=0.4663  , df_denom=1174, df_num=3\n",
      "ssr based chi2 test:   chi2=2.5671  , p=0.4633  , df=3\n",
      "likelihood ratio test: chi2=2.5643  , p=0.4638  , df=3\n",
      "parameter F test:         F=0.8506  , p=0.4663  , df_denom=1174, df_num=3\n"
     ]
    }
   ],
   "source": [
    "gc_res = grangercausalitytests(norm_df[['SPX', 'SPXL']], 3)"
   ]
  },
  {
   "cell_type": "code",
   "execution_count": 21,
   "metadata": {
    "colab": {
     "base_uri": "https://localhost:8080/",
     "height": 590
    },
    "colab_type": "code",
    "id": "KKebZsTFVjPj",
    "outputId": "02a187d3-5035-4ef2-99bb-3a0abada9a1f"
   },
   "outputs": [
    {
     "data": {
      "image/png": "[encoded data removed]",
      "text/plain": [
       "<Figure size 432x288 with 1 Axes>"
      ]
     },
     "metadata": {},
     "output_type": "display_data"
    }
   ],
   "source": [
    "from statsmodels.graphics.tsaplots import plot_acf\n",
    "plot_acf(df.SPX_shift_3,lags=3)\n",
    "plt.show()"
   ]
  },
  {
   "cell_type": "code",
   "execution_count": 23,
   "metadata": {
    "colab": {
     "base_uri": "https://localhost:8080/",
     "height": 301
    },
    "colab_type": "code",
    "id": "_Q32fr066DqN",
    "outputId": "c2253f9a-007a-4b7d-944b-6c5115f10018"
   },
   "outputs": [
    {
     "data": {
      "image/png": "[encoded data removed]",
      "text/plain": [
       "<Figure size 432x288 with 1 Axes>"
      ]
     },
     "metadata": {},
     "output_type": "display_data"
    }
   ],
   "source": [
    "x =scipy.signal.correlate(df.SPX,df.SPX_shift_3,mode='same')/len(df.SPX) # https://docs.scipy.org/doc/numpy-1.13.0/reference/generated/numpy.correlate.html\n",
    "\n",
    "plt.plot(x);"
   ]
  },
  {
   "cell_type": "code",
   "execution_count": 14,
   "metadata": {
    "colab": {},
    "colab_type": "code",
    "id": "XMmb0uZW6DtF"
   },
   "outputs": [],
   "source": [
    "# DGLD = yf.download('DGLD',\"1990-1-1\").drop(columns=['Open','High', 'Low','Adj Close','Volume'])\n",
    "\n",
    "# DGLD['MA'] = DGLD.rolling(180).sum()/180\n",
    "# DGLD.plot(figsize=(18,6))"
   ]
  },
  {
   "cell_type": "code",
   "execution_count": null,
   "metadata": {},
   "outputs": [],
   "source": []
  },
  {
   "cell_type": "code",
   "execution_count": null,
   "metadata": {},
   "outputs": [],
   "source": []
  }
 ],
 "metadata": {
  "accelerator": "GPU",
  "colab": {
   "include_colab_link": true,
   "name": "correlation testing.ipynb",
   "provenance": [],
   "version": "0.3.2"
  },
  "kernelspec": {
   "display_name": "Python 3",
   "language": "python",
   "name": "python3"
  },
  "language_info": {
   "codemirror_mode": {
    "name": "ipython",
    "version": 3
   },
   "file_extension": ".py",
   "mimetype": "text/x-python",
   "name": "python",
   "nbconvert_exporter": "python",
   "pygments_lexer": "ipython3",
   "version": "3.7.6"
  }
 },
 "nbformat": 4,
 "nbformat_minor": 4
}
