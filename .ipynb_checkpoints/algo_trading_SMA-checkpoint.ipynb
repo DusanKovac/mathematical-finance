{
 "cells": [
  {
   "cell_type": "code",
   "execution_count": 1,
   "metadata": {},
   "outputs": [],
   "source": [
    "# !pip install tensorflow\n",
    "# !pip install pandas-datareader\n",
    "# !pip install yfinance"
   ]
  },
  {
   "cell_type": "code",
   "execution_count": 6,
   "metadata": {
    "colab": {
     "base_uri": "https://localhost:8080/",
     "height": 459
    },
    "colab_type": "code",
    "id": "ZFRj4XIEkjN_",
    "outputId": "153216d4-ff57-4d42-c8fd-4c73dc318e31"
   },
   "outputs": [],
   "source": [
    "#sdasdasd\n",
    "# Importing the libraries\n",
    "import math\n",
    "import numpy as np\n",
    "import pandas as pd\n",
    "import matplotlib.pyplot as plt\n",
    "plt.style.use('fivethirtyeight')\n",
    "\n",
    "from sklearn.metrics import mean_squared_error\n",
    "from sklearn.preprocessing import MinMaxScaler\n",
    "from tensorflow.keras.models import Sequential\n",
    "from tensorflow.keras.layers import Dense, LSTM, Dropout, GRU, Bidirectional #, CuDNNLSTM\n",
    "\n",
    "import warnings\n",
    "\n",
    "with warnings.catch_warnings():\n",
    "    warnings.simplefilter(\"ignore\")\n",
    "    from pandas_datareader import data as pdr\n",
    "    import yfinance as yf"
   ]
  },
  {
   "cell_type": "code",
   "execution_count": 7,
   "metadata": {
    "colab": {
     "base_uri": "https://localhost:8080/",
     "height": 252
    },
    "colab_type": "code",
    "id": "dulAplofkoht",
    "outputId": "a5ff8fc1-32cc-4f55-e19b-a55aff43b426"
   },
   "outputs": [
    {
     "name": "stdout",
     "output_type": "stream",
     "text": [
      "[*********************100%***********************]  1 of 1 completed\n"
     ]
    },
    {
     "data": {
      "text/html": [
       "<div>\n",
       "<style scoped>\n",
       "    .dataframe tbody tr th:only-of-type {\n",
       "        vertical-align: middle;\n",
       "    }\n",
       "\n",
       "    .dataframe tbody tr th {\n",
       "        vertical-align: top;\n",
       "    }\n",
       "\n",
       "    .dataframe thead th {\n",
       "        text-align: right;\n",
       "    }\n",
       "</style>\n",
       "<table border=\"1\" class=\"dataframe\">\n",
       "  <thead>\n",
       "    <tr style=\"text-align: right;\">\n",
       "      <th></th>\n",
       "      <th>Close</th>\n",
       "    </tr>\n",
       "    <tr>\n",
       "      <th>Date</th>\n",
       "      <th></th>\n",
       "    </tr>\n",
       "  </thead>\n",
       "  <tbody>\n",
       "    <tr>\n",
       "      <th>2003-03-14</th>\n",
       "      <td>84.129997</td>\n",
       "    </tr>\n",
       "    <tr>\n",
       "      <th>2003-03-17</th>\n",
       "      <td>86.779999</td>\n",
       "    </tr>\n",
       "    <tr>\n",
       "      <th>2003-03-18</th>\n",
       "      <td>87.290001</td>\n",
       "    </tr>\n",
       "    <tr>\n",
       "      <th>2003-03-19</th>\n",
       "      <td>87.959999</td>\n",
       "    </tr>\n",
       "    <tr>\n",
       "      <th>2003-03-20</th>\n",
       "      <td>88.150002</td>\n",
       "    </tr>\n",
       "  </tbody>\n",
       "</table>\n",
       "</div>"
      ],
      "text/plain": [
       "                Close\n",
       "Date                 \n",
       "2003-03-14  84.129997\n",
       "2003-03-17  86.779999\n",
       "2003-03-18  87.290001\n",
       "2003-03-19  87.959999\n",
       "2003-03-20  88.150002"
      ]
     },
     "execution_count": 7,
     "metadata": {},
     "output_type": "execute_result"
    }
   ],
   "source": [
    "share = 'SPY'\n",
    "yf\n",
    "dataset = yf.download(share,\"2003-3-14\") #, start=\"2017-01-01\"\n",
    "dataset = dataset.drop(columns=['Open','High', 'Low','Adj Close','Volume'])\n",
    "dataset.head()"
   ]
  },
  {
   "cell_type": "code",
   "execution_count": 8,
   "metadata": {
    "colab": {
     "base_uri": "https://localhost:8080/",
     "height": 1000
    },
    "colab_type": "code",
    "id": "s2WIzp5wkoq9",
    "outputId": "4f7c8060-4eed-4742-e068-51c0e87b6f9b"
   },
   "outputs": [
    {
     "data": {
      "text/html": [
       "<div>\n",
       "<style scoped>\n",
       "    .dataframe tbody tr th:only-of-type {\n",
       "        vertical-align: middle;\n",
       "    }\n",
       "\n",
       "    .dataframe tbody tr th {\n",
       "        vertical-align: top;\n",
       "    }\n",
       "\n",
       "    .dataframe thead th {\n",
       "        text-align: right;\n",
       "    }\n",
       "</style>\n",
       "<table border=\"1\" class=\"dataframe\">\n",
       "  <thead>\n",
       "    <tr style=\"text-align: right;\">\n",
       "      <th></th>\n",
       "      <th>Close</th>\n",
       "      <th>MA</th>\n",
       "    </tr>\n",
       "    <tr>\n",
       "      <th>Date</th>\n",
       "      <th></th>\n",
       "      <th></th>\n",
       "    </tr>\n",
       "  </thead>\n",
       "  <tbody>\n",
       "    <tr>\n",
       "      <th>2003-03-14</th>\n",
       "      <td>84.129997</td>\n",
       "      <td>NaN</td>\n",
       "    </tr>\n",
       "    <tr>\n",
       "      <th>2003-03-17</th>\n",
       "      <td>86.779999</td>\n",
       "      <td>NaN</td>\n",
       "    </tr>\n",
       "    <tr>\n",
       "      <th>2003-03-18</th>\n",
       "      <td>87.290001</td>\n",
       "      <td>NaN</td>\n",
       "    </tr>\n",
       "    <tr>\n",
       "      <th>2003-03-19</th>\n",
       "      <td>87.959999</td>\n",
       "      <td>NaN</td>\n",
       "    </tr>\n",
       "    <tr>\n",
       "      <th>2003-03-20</th>\n",
       "      <td>88.150002</td>\n",
       "      <td>86.862</td>\n",
       "    </tr>\n",
       "    <tr>\n",
       "      <th>2003-03-21</th>\n",
       "      <td>89.669998</td>\n",
       "      <td>87.970</td>\n",
       "    </tr>\n",
       "    <tr>\n",
       "      <th>2003-03-24</th>\n",
       "      <td>86.690002</td>\n",
       "      <td>87.952</td>\n",
       "    </tr>\n",
       "    <tr>\n",
       "      <th>2003-03-25</th>\n",
       "      <td>87.519997</td>\n",
       "      <td>87.998</td>\n",
       "    </tr>\n",
       "    <tr>\n",
       "      <th>2003-03-26</th>\n",
       "      <td>87.080002</td>\n",
       "      <td>87.822</td>\n",
       "    </tr>\n",
       "    <tr>\n",
       "      <th>2003-03-27</th>\n",
       "      <td>87.150002</td>\n",
       "      <td>87.622</td>\n",
       "    </tr>\n",
       "  </tbody>\n",
       "</table>\n",
       "</div>"
      ],
      "text/plain": [
       "                Close      MA\n",
       "Date                         \n",
       "2003-03-14  84.129997     NaN\n",
       "2003-03-17  86.779999     NaN\n",
       "2003-03-18  87.290001     NaN\n",
       "2003-03-19  87.959999     NaN\n",
       "2003-03-20  88.150002  86.862\n",
       "2003-03-21  89.669998  87.970\n",
       "2003-03-24  86.690002  87.952\n",
       "2003-03-25  87.519997  87.998\n",
       "2003-03-26  87.080002  87.822\n",
       "2003-03-27  87.150002  87.622"
      ]
     },
     "execution_count": 8,
     "metadata": {},
     "output_type": "execute_result"
    }
   ],
   "source": [
    "dataset['MA'] = dataset.rolling(window=5).mean()\n",
    "dataset[:10]"
   ]
  },
  {
   "cell_type": "code",
   "execution_count": 9,
   "metadata": {
    "colab": {
     "base_uri": "https://localhost:8080/",
     "height": 85
    },
    "colab_type": "code",
    "id": "xafVTxR3tRnO",
    "outputId": "4086fd5f-7c03-414a-9bfd-4df77903435f"
   },
   "outputs": [
    {
     "name": "stdout",
     "output_type": "stream",
     "text": [
      "                Close  MA\n",
      "Date                     \n",
      "2003-03-14  84.129997 NaN\n",
      "\n",
      " 4387\n"
     ]
    }
   ],
   "source": [
    "print(dataset.head(1))\n",
    "print(\"\\n\", len(dataset))"
   ]
  },
  {
   "cell_type": "code",
   "execution_count": 10,
   "metadata": {
    "colab": {
     "base_uri": "https://localhost:8080/",
     "height": 235
    },
    "colab_type": "code",
    "id": "X8j8XenptQwk",
    "outputId": "be61ccfd-bd54-41fb-fc65-8a2ea33c6ff1"
   },
   "outputs": [
    {
     "data": {
      "text/html": [
       "<div>\n",
       "<style scoped>\n",
       "    .dataframe tbody tr th:only-of-type {\n",
       "        vertical-align: middle;\n",
       "    }\n",
       "\n",
       "    .dataframe tbody tr th {\n",
       "        vertical-align: top;\n",
       "    }\n",
       "\n",
       "    .dataframe thead th {\n",
       "        text-align: right;\n",
       "    }\n",
       "</style>\n",
       "<table border=\"1\" class=\"dataframe\">\n",
       "  <thead>\n",
       "    <tr style=\"text-align: right;\">\n",
       "      <th></th>\n",
       "      <th>Close</th>\n",
       "      <th>MA</th>\n",
       "    </tr>\n",
       "    <tr>\n",
       "      <th>Date</th>\n",
       "      <th></th>\n",
       "      <th></th>\n",
       "    </tr>\n",
       "  </thead>\n",
       "  <tbody>\n",
       "    <tr>\n",
       "      <th>2003-03-14</th>\n",
       "      <td>84.129997</td>\n",
       "      <td>NaN</td>\n",
       "    </tr>\n",
       "    <tr>\n",
       "      <th>2003-04-28</th>\n",
       "      <td>91.790001</td>\n",
       "      <td>91.380000</td>\n",
       "    </tr>\n",
       "    <tr>\n",
       "      <th>2003-06-10</th>\n",
       "      <td>99.250000</td>\n",
       "      <td>99.114001</td>\n",
       "    </tr>\n",
       "    <tr>\n",
       "      <th>2003-07-23</th>\n",
       "      <td>99.239998</td>\n",
       "      <td>98.939999</td>\n",
       "    </tr>\n",
       "    <tr>\n",
       "      <th>2003-09-04</th>\n",
       "      <td>103.410004</td>\n",
       "      <td>102.354002</td>\n",
       "    </tr>\n",
       "  </tbody>\n",
       "</table>\n",
       "</div>"
      ],
      "text/plain": [
       "                 Close          MA\n",
       "Date                              \n",
       "2003-03-14   84.129997         NaN\n",
       "2003-04-28   91.790001   91.380000\n",
       "2003-06-10   99.250000   99.114001\n",
       "2003-07-23   99.239998   98.939999\n",
       "2003-09-04  103.410004  102.354002"
      ]
     },
     "execution_count": 10,
     "metadata": {},
     "output_type": "execute_result"
    }
   ],
   "source": [
    "df2 = dataset.iloc[::30, :]\n",
    "df2.head()"
   ]
  },
  {
   "cell_type": "code",
   "execution_count": 11,
   "metadata": {
    "colab": {
     "base_uri": "https://localhost:8080/",
     "height": 51
    },
    "colab_type": "code",
    "id": "HKelB3_elN-k",
    "outputId": "72f47c14-9cb5-4f27-a440-4167711f902c"
   },
   "outputs": [
    {
     "name": "stdout",
     "output_type": "stream",
     "text": [
      "num of shares 910\n",
      "num of shares * last closing  306533\n"
     ]
    }
   ],
   "source": [
    "invPerMonth = 1000\n",
    "total =0\n",
    "rem=0 \n",
    "shares=0 \n",
    "\n",
    "for i, row in df2.iterrows():\n",
    "   # print(str(i) +\" | \"+ str(row.Close.round(2)))\n",
    "    numShares = math.floor((invPerMonth)/row.Close.round(2))\n",
    "    shares+=numShares\n",
    "   #  rem = invPerMonth -(row.Close.round(2) * numShares)\n",
    "   # print(\"numShares:\" , numShares)\n",
    "   # print(\"shares:\" , shares)\n",
    "   # print(\"rem:\" , rem)\n",
    "\n",
    "print(\"num of shares\" , shares)\n",
    "print(\"num of shares * last closing \",int(dataset.tail(1).Close*shares)) #dataset.tail, not df2.tail\n"
   ]
  },
  {
   "cell_type": "markdown",
   "metadata": {
    "colab_type": "text",
    "id": "R9-Mv0ByyfwH"
   },
   "source": [
    "\n",
    "\n",
    " 192,000 saved in total. apx 879 shares worth 290.16 each, for a total of $255050.64 for a ROI of 255050.64/192000 = 132.84%\n",
    " \n",
    " with remainder being invested, we should get the expected  %236 (on the closing of 5/29/2019)\n",
    "\n",
    "\n",
    "\n",
    "\n"
   ]
  },
  {
   "cell_type": "code",
   "execution_count": null,
   "metadata": {
    "colab": {},
    "colab_type": "code",
    "id": "yjDwizd82uEE"
   },
   "outputs": [],
   "source": []
  },
  {
   "cell_type": "code",
   "execution_count": null,
   "metadata": {
    "colab": {},
    "colab_type": "code",
    "id": "-X08-Yzi2uns"
   },
   "outputs": [],
   "source": []
  },
  {
   "cell_type": "code",
   "execution_count": 12,
   "metadata": {
    "colab": {
     "base_uri": "https://localhost:8080/",
     "height": 68
    },
    "colab_type": "code",
    "id": "y7B3T5Tt2tQ9",
    "outputId": "a80bdb99-a903-48b2-a259-bd3be815bd94"
   },
   "outputs": [
    {
     "name": "stdout",
     "output_type": "stream",
     "text": [
      "invPerMonth:  1182.799999999998\n",
      "num of shares 988\n",
      "num of shares * last closing  332807\n"
     ]
    }
   ],
   "source": [
    "invPerMonth = 1000\n",
    "total =0\n",
    "shares=0 \n",
    "\n",
    "for i, row in df2.iterrows():\n",
    "   # print(\"\\n\" + str(i) +\" | \"+ str(row.Close.round(2)))\n",
    "    numShares = math.floor((invPerMonth)/row.Close.round(2))\n",
    "    shares+=numShares\n",
    "    invPerMonth -= (row.Close.round(2) * numShares)\n",
    "    \n",
    "    invPerMonth += 1000\n",
    "   # print(\"numShares:\" , numShares)\n",
    "   # print(\"shares:\" , shares)\n",
    "   # print(\"invPerMonth:\" , invPerMonth)\n",
    "\n",
    "print(\"invPerMonth: \",invPerMonth)\n",
    "print(\"num of shares\" , shares)\n",
    "print(\"num of shares * last closing \",int(dataset.tail(1).Close*shares)) #dataset.tail, not df2.tail"
   ]
  },
  {
   "cell_type": "markdown",
   "metadata": {
    "colab_type": "text",
    "id": "7SOgILvk2XxU"
   },
   "source": [
    "192,000 saved in total. apx 879 shares worth 290.16 each, for a total of $255050.64 for a ROI of 255050.64/192000 = 132.84%\n",
    "\n",
    "with remainder being invested, we should get the expected %236 (on the closing of 5/29/2019)\n",
    "\n",
    "\n",
    "264913/120000 = 220.76%\n"
   ]
  },
  {
   "cell_type": "code",
   "execution_count": 13,
   "metadata": {
    "colab": {
     "base_uri": "https://localhost:8080/",
     "height": 85
    },
    "colab_type": "code",
    "id": "ad0eWexT2wVU",
    "outputId": "7010148a-9994-424d-e076-ded3858dafad"
   },
   "outputs": [
    {
     "name": "stdout",
     "output_type": "stream",
     "text": [
      "invPerMonth:  2119.0299999999984\n",
      "num of shares 972\n",
      "num of shares * last closing =  327418\n",
      "total:  329537.02999999997\n"
     ]
    }
   ],
   "source": [
    "dataset['MA'] = dataset.rolling(window=30).mean()\n",
    "\n",
    "\n",
    "invPerMonth = 1000\n",
    "total =0\n",
    "shares=0 \n",
    "\n",
    "for i, row in df2.iterrows():\n",
    "   # print(\"\\n\" + str(i) +\" | \"+ str(row.Close.round(2)))\n",
    "    if((row.Close.round(2) <= row.MA.round(2)) and not math.isnan(row.MA.round(2))):\n",
    "      numShares = math.floor((invPerMonth)/row.Close.round(2))\n",
    "      shares+=numShares\n",
    "      invPerMonth -= (row.Close.round(2) * numShares)\n",
    "      #print(\"\\n close: \" + str(i) +\" | \"+ str(row.Close.round(2)))\n",
    "      #print(\" MA:    \"+str(i) +\" | \"+ str(row.MA.round(2)))\n",
    "    invPerMonth += 1000\n",
    "   # print(\"numShares:\" , numShares)\n",
    "   # print(\"shares:\" , shares)\n",
    "   # print(\"invPerMonth:\" , invPerMonth)\n",
    "\n",
    "print(\"invPerMonth: \",invPerMonth)\n",
    "print(\"num of shares\" , shares)\n",
    "print(\"num of shares * last closing = \",int(dataset.tail(1).Close*shares)) #dataset.tail, not df2.tail\n",
    "print(\"total: \", (int(dataset.tail(1).Close*shares)+invPerMonth))"
   ]
  },
  {
   "cell_type": "markdown",
   "metadata": {
    "colab_type": "text",
    "id": "AHo7A4yk67Lw"
   },
   "source": [
    "above is the stratergy is which be "
   ]
  },
  {
   "cell_type": "code",
   "execution_count": 14,
   "metadata": {
    "colab": {
     "base_uri": "https://localhost:8080/",
     "height": 85
    },
    "colab_type": "code",
    "id": "_uConx9n5nNe",
    "outputId": "981a221c-f3cd-4f23-8211-56780716c6fd"
   },
   "outputs": [
    {
     "name": "stdout",
     "output_type": "stream",
     "text": [
      "invPerMonth:  2119.0299999999984\n",
      "num of shares 972\n",
      "num of shares * last closing =  327418\n",
      "total:  329537.02999999997\n"
     ]
    }
   ],
   "source": [
    "dataset['MA'] = dataset.rolling(window=14).mean()\n",
    "\n",
    "\n",
    "invPerMonth = 1000\n",
    "total =0\n",
    "shares=0 \n",
    "\n",
    "for i, row in df2.iterrows():\n",
    "   # print(\"\\n\" + str(i) +\" | \"+ str(row.Close.round(2)))\n",
    "    if((row.Close.round(2) <= row.MA.round(2)) and not math.isnan(row.MA.round(2))):\n",
    "      numShares = math.floor((invPerMonth)/row.Close.round(2))\n",
    "      shares+=numShares\n",
    "      invPerMonth -= (row.Close.round(2) * numShares)\n",
    "      #print(\"\\n close: \" + str(i) +\" | \"+ str(row.Close.round(2)))\n",
    "      #print(\" MA:    \"+str(i) +\" | \"+ str(row.MA.round(2)))\n",
    "    invPerMonth += 1000\n",
    "   # print(\"numShares:\" , numShares)\n",
    "   # print(\"shares:\" , shares)\n",
    "   # print(\"invPerMonth:\" , invPerMonth)\n",
    "\n",
    "print(\"invPerMonth: \",invPerMonth)\n",
    "print(\"num of shares\" , shares)\n",
    "print(\"num of shares * last closing = \",int(dataset.tail(1).Close*shares)) #dataset.tail, not df2.tail\n",
    "print(\"total: \", (int(dataset.tail(1).Close*shares)+invPerMonth))"
   ]
  },
  {
   "cell_type": "code",
   "execution_count": 15,
   "metadata": {
    "colab": {
     "base_uri": "https://localhost:8080/",
     "height": 85
    },
    "colab_type": "code",
    "id": "CHi6DutK59QX",
    "outputId": "d645df7e-ff28-47e9-8cb8-2d901487129a"
   },
   "outputs": [
    {
     "name": "stdout",
     "output_type": "stream",
     "text": [
      "invPerMonth:  2119.0299999999984\n",
      "num of shares 972\n",
      "num of shares * last closing =  327418\n",
      "total:  329537.02999999997\n"
     ]
    }
   ],
   "source": [
    "dataset['MA'] = dataset.rolling(window=7).mean()\n",
    "\n",
    "\n",
    "invPerMonth = 1000\n",
    "total =0\n",
    "shares=0 \n",
    "\n",
    "for i, row in df2.iterrows():\n",
    "   # print(\"\\n\" + str(i) +\" | \"+ str(row.Close.round(2)))\n",
    "    if((row.Close.round(2) <= row.MA.round(2)) and not math.isnan(row.MA.round(2))):\n",
    "      numShares = math.floor((invPerMonth)/row.Close.round(2))\n",
    "      shares+=numShares\n",
    "      invPerMonth -= (row.Close.round(2) * numShares)\n",
    "      #print(\"\\n close: \" + str(i) +\" | \"+ str(row.Close.round(2)))\n",
    "      #print(\" MA:    \"+str(i) +\" | \"+ str(row.MA.round(2)))\n",
    "    invPerMonth += 1000\n",
    "   # print(\"numShares:\" , numShares)\n",
    "   # print(\"shares:\" , shares)\n",
    "   # print(\"invPerMonth:\" , invPerMonth)\n",
    "\n",
    "print(\"invPerMonth: \",invPerMonth)\n",
    "print(\"num of shares\" , shares)\n",
    "print(\"num of shares * last closing = \",int(dataset.tail(1).Close*shares)) #dataset.tail, not df2.tail\n",
    "print(\"total: \", (int(dataset.tail(1).Close*shares)+invPerMonth))"
   ]
  },
  {
   "cell_type": "code",
   "execution_count": null,
   "metadata": {
    "colab": {},
    "colab_type": "code",
    "id": "MpHn9TqAQEJH"
   },
   "outputs": [],
   "source": []
  },
  {
   "cell_type": "code",
   "execution_count": 16,
   "metadata": {
    "colab": {
     "base_uri": "https://localhost:8080/",
     "height": 85
    },
    "colab_type": "code",
    "id": "maedIZ7V59Xe",
    "outputId": "f37efa3b-54f0-43fc-9b8d-fc6f37cb232e"
   },
   "outputs": [
    {
     "name": "stdout",
     "output_type": "stream",
     "text": [
      "invPerMonth:  2119.0299999999984\n",
      "num of shares 972\n",
      "num of shares * last closing =  327418\n",
      "total:  329537.02999999997\n"
     ]
    }
   ],
   "source": [
    "dataset['MA'] = dataset.rolling(window=1).mean()\n",
    "\n",
    "\n",
    "invPerMonth = 1000\n",
    "total =0\n",
    "shares=0 \n",
    "\n",
    "for i, row in df2.iterrows():\n",
    "   # print(\"\\n\" + str(i) +\" | \"+ str(row.Close.round(2)))\n",
    "    if((row.Close.round(2) <= row.MA.round(2)) and not math.isnan(row.MA.round(2))):\n",
    "      numShares = math.floor((invPerMonth)/row.Close.round(2))\n",
    "      shares+=numShares\n",
    "      invPerMonth -= (row.Close.round(2) * numShares)\n",
    "      #print(\"\\n close: \" + str(i) +\" | \"+ str(row.Close.round(2)))\n",
    "      #print(\" MA:    \"+str(i) +\" | \"+ str(row.MA.round(2)))\n",
    "    invPerMonth += 1000\n",
    "   # print(\"numShares:\" , numShares)\n",
    "   # print(\"shares:\" , shares)\n",
    "   # print(\"invPerMonth:\" , invPerMonth)\n",
    "\n",
    "print(\"invPerMonth: \",invPerMonth)\n",
    "print(\"num of shares\" , shares)\n",
    "print(\"num of shares * last closing = \",int(dataset.tail(1).Close*shares)) #dataset.tail, not df2.tail\n",
    "print(\"total: \", (int(dataset.tail(1).Close*shares)+invPerMonth))"
   ]
  },
  {
   "cell_type": "markdown",
   "metadata": {
    "colab_type": "text",
    "id": "5UFX_J5UQLRb"
   },
   "source": [
    "if we buy only higher then the moving average\n",
    "\n"
   ]
  },
  {
   "cell_type": "code",
   "execution_count": 17,
   "metadata": {
    "colab": {
     "base_uri": "https://localhost:8080/",
     "height": 85
    },
    "colab_type": "code",
    "id": "F-j4RcqQQIKn",
    "outputId": "10b0b87d-9226-4425-ed54-ab6aaed97df2"
   },
   "outputs": [
    {
     "name": "stdout",
     "output_type": "stream",
     "text": [
      "invPerMonth:  1124.0300000000016\n",
      "num of shares 989\n",
      "num of shares * last closing =  333144\n",
      "total:  334268.03\n"
     ]
    }
   ],
   "source": [
    "dataset['MA'] = dataset.rolling(window=20).mean()\n",
    "\n",
    "\n",
    "invPerMonth = 1000\n",
    "total =0\n",
    "shares=0 \n",
    "\n",
    "for i, row in df2.iterrows():\n",
    "   # print(\"\\n\" + str(i) +\" | \"+ str(row.Close.round(2)))\n",
    "    if((row.Close.round(2) >= row.MA.round(2)) and not math.isnan(row.MA.round(2))):\n",
    "      numShares = math.floor((invPerMonth)/row.Close.round(2))\n",
    "      shares+=numShares\n",
    "      invPerMonth -= (row.Close.round(2) * numShares)\n",
    "      #print(\"\\n close: \" + str(i) +\" | \"+ str(row.Close.round(2)))\n",
    "      #print(\" MA:    \"+str(i) +\" | \"+ str(row.MA.round(2)))\n",
    "    invPerMonth += 1000\n",
    "   # print(\"numShares:\" , numShares)\n",
    "   # print(\"shares:\" , shares)\n",
    "   # print(\"invPerMonth:\" , invPerMonth)\n",
    "\n",
    "print(\"invPerMonth: \",invPerMonth)\n",
    "print(\"num of shares\" , shares)\n",
    "print(\"num of shares * last closing = \",int(dataset.tail(1).Close*shares)) #dataset.tail, not df2.tail\n",
    "print(\"total: \", (int(dataset.tail(1).Close*shares)+invPerMonth))"
   ]
  },
  {
   "cell_type": "code",
   "execution_count": 18,
   "metadata": {
    "colab": {
     "base_uri": "https://localhost:8080/",
     "height": 85
    },
    "colab_type": "code",
    "id": "G8718V66QIcQ",
    "outputId": "e1005764-3bf1-4293-c8b9-f5df9674042a"
   },
   "outputs": [
    {
     "name": "stdout",
     "output_type": "stream",
     "text": [
      "invPerMonth:  1124.0300000000016\n",
      "num of shares 989\n",
      "num of shares * last closing =  333144\n",
      "total:  334268.03\n"
     ]
    }
   ],
   "source": [
    "dataset['MA'] = dataset.rolling(window=90).mean()\n",
    "\n",
    "\n",
    "invPerMonth = 1000\n",
    "total =0\n",
    "shares=0 \n",
    "\n",
    "for i, row in df2.iterrows():\n",
    "   # print(\"\\n\" + str(i) +\" | \"+ str(row.Close.round(2)))\n",
    "    if((row.Close.round(2) >= row.MA.round(2)) and not math.isnan(row.MA.round(2))):\n",
    "      numShares = math.floor((invPerMonth)/row.Close.round(2))\n",
    "      shares+=numShares\n",
    "      invPerMonth -= (row.Close.round(2) * numShares)\n",
    "      #print(\"\\n close: \" + str(i) +\" | \"+ str(row.Close.round(2)))\n",
    "      #print(\" MA:    \"+str(i) +\" | \"+ str(row.MA.round(2)))\n",
    "    invPerMonth += 1000\n",
    "   # print(\"numShares:\" , numShares)\n",
    "   # print(\"shares:\" , shares)\n",
    "   # print(\"invPerMonth:\" , invPerMonth)\n",
    "\n",
    "print(\"invPerMonth: \",invPerMonth)\n",
    "print(\"num of shares\" , shares)\n",
    "print(\"num of shares * last closing = \",int(dataset.tail(1).Close*shares)) #dataset.tail, not df2.tail\n",
    "print(\"total: \", (int(dataset.tail(1).Close*shares)+invPerMonth))"
   ]
  },
  {
   "cell_type": "code",
   "execution_count": 19,
   "metadata": {
    "colab": {
     "base_uri": "https://localhost:8080/",
     "height": 85
    },
    "colab_type": "code",
    "id": "YatWmpaXQEo4",
    "outputId": "444b2cdd-6459-4ba9-bdfc-cd3af55e0750"
   },
   "outputs": [
    {
     "name": "stdout",
     "output_type": "stream",
     "text": [
      "invPerMonth:  1124.0300000000016\n",
      "num of shares 989\n",
      "num of shares * last closing =  333144\n",
      "total:  334268.03\n"
     ]
    }
   ],
   "source": [
    "dataset['MA'] = dataset.rolling(window=30).mean()\n",
    "\n",
    "\n",
    "invPerMonth = 1000\n",
    "total =0\n",
    "shares=0 \n",
    "\n",
    "for i, row in df2.iterrows():\n",
    "   # print(\"\\n\" + str(i) +\" | \"+ str(row.Close.round(2)))\n",
    "    if((row.Close.round(2) >= row.MA.round(2)) and not math.isnan(row.MA.round(2))):\n",
    "      numShares = math.floor((invPerMonth)/row.Close.round(2))\n",
    "      shares+=numShares\n",
    "      invPerMonth -= (row.Close.round(2) * numShares)\n",
    "      #print(\"\\n close: \" + str(i) +\" | \"+ str(row.Close.round(2)))\n",
    "      #print(\" MA:    \"+str(i) +\" | \"+ str(row.MA.round(2)))\n",
    "    invPerMonth += 1000\n",
    "   # print(\"numShares:\" , numShares)\n",
    "   # print(\"shares:\" , shares)\n",
    "   # print(\"invPerMonth:\" , invPerMonth)\n",
    "\n",
    "print(\"invPerMonth: \",invPerMonth)\n",
    "print(\"num of shares\" , shares)\n",
    "print(\"num of shares * last closing = \",int(dataset.tail(1).Close*shares)) #dataset.tail, not df2.tail\n",
    "print(\"total: \", (int(dataset.tail(1).Close*shares)+invPerMonth))"
   ]
  },
  {
   "cell_type": "code",
   "execution_count": 20,
   "metadata": {
    "colab": {
     "base_uri": "https://localhost:8080/",
     "height": 85
    },
    "colab_type": "code",
    "id": "VlIDnR9oQIpA",
    "outputId": "8519ccc7-e17d-4767-afd5-82e6d15d4fc7"
   },
   "outputs": [
    {
     "name": "stdout",
     "output_type": "stream",
     "text": [
      "invPerMonth:  1124.0300000000016\n",
      "num of shares 989\n",
      "num of shares * last closing =  333144\n",
      "total:  334268.03\n"
     ]
    }
   ],
   "source": [
    "dataset['MA'] = dataset.rolling(window=20).mean()\n",
    "\n",
    "\n",
    "invPerMonth = 1000\n",
    "total =0\n",
    "shares=0 \n",
    "\n",
    "for i, row in df2.iterrows():\n",
    "   # print(\"\\n\" + str(i) +\" | \"+ str(row.Close.round(2)))\n",
    "    if((row.Close.round(2) >= row.MA.round(2)) and not math.isnan(row.MA.round(2))):\n",
    "      numShares = math.floor((invPerMonth)/row.Close.round(2))\n",
    "      shares+=numShares\n",
    "      invPerMonth -= (row.Close.round(2) * numShares)\n",
    "      #print(\"\\n close: \" + str(i) +\" | \"+ str(row.Close.round(2)))\n",
    "      #print(\" MA:    \"+str(i) +\" | \"+ str(row.MA.round(2)))\n",
    "    invPerMonth += 1000\n",
    "   # print(\"numShares:\" , numShares)\n",
    "   # print(\"shares:\" , shares)\n",
    "   # print(\"invPerMonth:\" , invPerMonth)\n",
    "\n",
    "print(\"invPerMonth: \",invPerMonth)\n",
    "print(\"num of shares\" , shares)\n",
    "print(\"num of shares * last closing = \",int(dataset.tail(1).Close*shares)) #dataset.tail, not df2.tail\n",
    "print(\"total: \", (int(dataset.tail(1).Close*shares)+invPerMonth))"
   ]
  },
  {
   "cell_type": "code",
   "execution_count": 21,
   "metadata": {
    "colab": {
     "base_uri": "https://localhost:8080/",
     "height": 85
    },
    "colab_type": "code",
    "id": "a51M5FCFQJHQ",
    "outputId": "804f80fa-e1dc-4e22-8a8a-4d4881509732"
   },
   "outputs": [
    {
     "name": "stdout",
     "output_type": "stream",
     "text": [
      "invPerMonth:  1124.0300000000016\n",
      "num of shares 989\n",
      "num of shares * last closing =  333144\n",
      "total:  334268.03\n"
     ]
    }
   ],
   "source": [
    "dataset['MA'] = dataset.rolling(window=7).mean()\n",
    "\n",
    "\n",
    "invPerMonth = 1000\n",
    "total =0\n",
    "shares=0 \n",
    "\n",
    "for i, row in df2.iterrows():\n",
    "   # print(\"\\n\" + str(i) +\" | \"+ str(row.Close.round(2)))\n",
    "    if((row.Close.round(2) >= row.MA.round(2)) and not math.isnan(row.MA.round(2))):\n",
    "      numShares = math.floor((invPerMonth)/row.Close.round(2))\n",
    "      shares+=numShares\n",
    "      invPerMonth -= (row.Close.round(2) * numShares)\n",
    "      #print(\"\\n close: \" + str(i) +\" | \"+ str(row.Close.round(2)))\n",
    "      #print(\" MA:    \"+str(i) +\" | \"+ str(row.MA.round(2)))\n",
    "    invPerMonth += 1000\n",
    "   # print(\"numShares:\" , numShares)\n",
    "   # print(\"shares:\" , shares)\n",
    "   # print(\"invPerMonth:\" , invPerMonth)\n",
    "\n",
    "print(\"invPerMonth: \",invPerMonth)\n",
    "print(\"num of shares\" , shares)\n",
    "print(\"num of shares * last closing = \",int(dataset.tail(1).Close*shares)) #dataset.tail, not df2.tail\n",
    "print(\"total: \", (int(dataset.tail(1).Close*shares)+invPerMonth))"
   ]
  },
  {
   "cell_type": "code",
   "execution_count": null,
   "metadata": {
    "colab": {},
    "colab_type": "code",
    "id": "VFdYslWj-DHU"
   },
   "outputs": [],
   "source": []
  },
  {
   "cell_type": "code",
   "execution_count": null,
   "metadata": {},
   "outputs": [],
   "source": []
  },
  {
   "cell_type": "code",
   "execution_count": null,
   "metadata": {},
   "outputs": [],
   "source": []
  }
 ],
 "metadata": {
  "accelerator": "TPU",
  "colab": {
   "name": "algo trading - SMA.ipynb",
   "provenance": []
  },
  "kernelspec": {
   "display_name": "Python 3",
   "language": "python",
   "name": "python3"
  },
  "language_info": {
   "codemirror_mode": {
    "name": "ipython",
    "version": 3
   },
   "file_extension": ".py",
   "mimetype": "text/x-python",
   "name": "python",
   "nbconvert_exporter": "python",
   "pygments_lexer": "ipython3",
   "version": "3.7.6"
  }
 },
 "nbformat": 4,
 "nbformat_minor": 4
}
